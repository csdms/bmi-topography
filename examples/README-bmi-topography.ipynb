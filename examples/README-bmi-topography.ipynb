{
 "cells": [
  {
   "cell_type": "markdown",
   "id": "0",
   "metadata": {},
   "source": [
    "# Examples: bmi-topography"
   ]
  },
  {
   "cell_type": "markdown",
   "id": "1",
   "metadata": {},
   "source": [
    "Here are a few examples of using the Topography data component,\n",
    "*bmi-topography*.\n",
    "\n",
    "* [topography.ipynb](./topography.ipynb) and [bmi-topography.ipynb](./bmi-topography.ipynb): These Jupyter Notebooks show how to call the Topography data component through its API and its BMI, respectively.\n",
    "* [bmi-topography_ex.sh](./bmi-topography_ex.sh): This shell script demonstrates how to call the Topography CLI.\n",
    "* [bmi-topography_ex.py](./bmi-topography_ex.py): An example Python script that  used in the main [README](../README.md).\n",
    "* [config.yaml](./config.yaml): A configuration file used to pass parameters to the Topography BMI."
   ]
  }
 ],
 "metadata": {
  "kernelspec": {
   "display_name": "CSDMS",
   "language": "python",
   "name": "csdms"
  },
  "language_info": {
   "codemirror_mode": {
    "name": "ipython",
    "version": 3
   },
   "file_extension": ".py",
   "mimetype": "text/x-python",
   "name": "python",
   "nbconvert_exporter": "python",
   "pygments_lexer": "ipython3",
   "version": "3.11.7"
  }
 },
 "nbformat": 4,
 "nbformat_minor": 5
}
