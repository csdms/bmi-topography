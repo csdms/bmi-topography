{
 "cells": [
  {
   "cell_type": "markdown",
   "id": "0",
   "metadata": {},
   "source": [
    "# Get SRTM data with the Topography data component"
   ]
  },
  {
   "cell_type": "markdown",
   "id": "1",
   "metadata": {},
   "source": [
    "This notebook describes how to download Shuttle Radar Topography Mission (SRTM) elevation data\n",
    "with the Topography data component."
   ]
  },
  {
   "cell_type": "markdown",
   "id": "2",
   "metadata": {},
   "source": [
    "## Fetch and load data"
   ]
  },
  {
   "cell_type": "markdown",
   "id": "3",
   "metadata": {},
   "source": [
    "Import the `Topography` class from the `bmi-topography` package:"
   ]
  },
  {
   "cell_type": "code",
   "execution_count": null,
   "id": "4",
   "metadata": {},
   "outputs": [],
   "source": [
    "from bmi_topography import Topography"
   ]
  },
  {
   "cell_type": "markdown",
   "id": "5",
   "metadata": {},
   "source": [
    "`Topography` downloads and stores SRTM data through the [OpenTopography](https://opentopography.org/) [REST API](https://portal.opentopography.org/apidocs/#/Public/getGlobalDem). OpenTopography is an NSF-supported project that provides open access to high-resolution topography data and services."
   ]
  },
  {
   "cell_type": "markdown",
   "id": "6",
   "metadata": {},
   "source": [
    "Create an instance of `Topography` using parameters to describe\n",
    "\n",
    "* the type of data requested,\n",
    "* the geographic bounding box of the data,\n",
    "* the file format, and \n",
    "* where to store the file\n",
    "\n",
    "with the following step:"
   ]
  },
  {
   "cell_type": "code",
   "execution_count": null,
   "id": "7",
   "metadata": {},
   "outputs": [],
   "source": [
    "topo = Topography(\n",
    "    dem_type=\"SRTMGL3\",\n",
    "    south=36.738884,\n",
    "    north=38.091337,\n",
    "    west=-120.168457,\n",
    "    east=-118.465576,\n",
    "    output_format=\"GTiff\",\n",
    "    cache_dir=\".\",\n",
    ")"
   ]
  },
  {
   "cell_type": "markdown",
   "id": "8",
   "metadata": {},
   "source": [
    "While this step sets up a call to the OpenTopography API, it doesn't download the data. Download the data by calling the `fetch` method:"
   ]
  },
  {
   "cell_type": "code",
   "execution_count": null,
   "id": "9",
   "metadata": {},
   "outputs": [],
   "source": [
    "fname = topo.fetch()\n",
    "print(fname)"
   ]
  },
  {
   "cell_type": "markdown",
   "id": "10",
   "metadata": {},
   "source": [
    "This step may take a few moments to run while the data are fetched from OpenTopography and downloaded."
   ]
  },
  {
   "cell_type": "markdown",
   "id": "11",
   "metadata": {},
   "source": [
    "The `fetch` method only downloads data; it doesn't load it into memory. Call the `load` method to open the downloaded  file and load it into an `xarray` DataArray:"
   ]
  },
  {
   "cell_type": "code",
   "execution_count": null,
   "id": "12",
   "metadata": {},
   "outputs": [],
   "source": [
    "da = topo.load()\n",
    "print(da)"
   ]
  },
  {
   "cell_type": "markdown",
   "id": "13",
   "metadata": {},
   "source": [
    "Note that `load` calls `fetch`, so the latter can be omitted if the goal is the get the data into memory."
   ]
  },
  {
   "cell_type": "markdown",
   "id": "14",
   "metadata": {},
   "source": [
    "## Visualize"
   ]
  },
  {
   "cell_type": "markdown",
   "id": "15",
   "metadata": {},
   "source": [
    "Finally, let's visualize the downloaded elevation data."
   ]
  },
  {
   "cell_type": "code",
   "execution_count": null,
   "id": "16",
   "metadata": {},
   "outputs": [],
   "source": [
    "da.plot()"
   ]
  }
 ],
 "metadata": {
  "kernelspec": {
   "display_name": "Python 3 (ipykernel)",
   "language": "python",
   "name": "python3"
  },
  "language_info": {
   "codemirror_mode": {
    "name": "ipython",
    "version": 3
   },
   "file_extension": ".py",
   "mimetype": "text/x-python",
   "name": "python",
   "nbconvert_exporter": "python",
   "pygments_lexer": "ipython3",
   "version": "3.10.2"
  }
 },
 "nbformat": 4,
 "nbformat_minor": 5
}
